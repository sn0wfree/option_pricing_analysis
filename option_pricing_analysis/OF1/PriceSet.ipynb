{
 "cells": [
  {
   "cell_type": "code",
   "execution_count": 1,
   "metadata": {},
   "outputs": [],
   "source": [
    "# -*- coding:utf-8 -*-\n",
    "import pandas as pd\n",
    "import numpy as np\n",
    "import sys,datetime,calendar,requests"
   ]
  },
  {
   "cell_type": "code",
   "execution_count": 2,
   "metadata": {},
   "outputs": [],
   "source": [
    "# import Custom module\n",
    "import OptionPricing as OP\n",
    "sys.path.append('../')\n",
    "# import OF2,OF1,OF4\n",
    "import APICenter as API\n",
    "import DataCenter as DATA\n",
    "Api = API.API()\n",
    "TestModel = True\n",
    "if TestModel:\n",
    "    Data = DATA.TestDataCenter()\n",
    "else:\n",
    "    Data = DATA.DataCenter()"
   ]
  },
  {
   "cell_type": "code",
   "execution_count": 4,
   "metadata": {},
   "outputs": [],
   "source": [
    "def getrealtimeDataViaAPI():\n",
    "    return Data.LoadOptionRealTimeDataViaAPI()\n",
    "def get50ETFrealtimeDataViaAPI():\n",
    "    return Data.Load50ETFRealTimeDataViaAPI()"
   ]
  },
  {
   "cell_type": "code",
   "execution_count": 55,
   "metadata": {},
   "outputs": [],
   "source": [
    "class ServiceAPIforBackUp():\n",
    "\n",
    "    def __init__(self):\n",
    "\n",
    "        pass\n",
    "\n",
    "    def checkNonClosedDay(self, date, apiurl='http://m.dsjcj.cc/tornado/common?a=check_holiday&date='):\n",
    "        \"\"\" http://m.dsjcj.cc/tornado/common?a=check_holiday&date=2018-4-25\n",
    "\n",
    "            用这个接口判断是否节假日，取data的值，如果为0为不休市，如果为1则为休市\n",
    "            不休市返回：{\"data\": 0, \"errmsg\": \"\", \"error\": 0}\n",
    "            休市返回：{\"data\": 1, \"errmsg\": \"\", \"error\": 0}\"\"\"\n",
    "        response = requests.get(apiurl + date)\n",
    "        if response.status_code == 200:\n",
    "            import ast\n",
    "            return int(ast.literal_eval(response.text)['data'])\n",
    "        else:\n",
    "            raise ValueError('info: response code :%d' %\n",
    "                             (response.status_code))\n",
    "        \n",
    "    \"\"\"def checkNonClosedDay(self, date, api=Api.ServiceAPI):\n",
    "        # use api to check whether closed day\n",
    "         http://m.dsjcj.cc/tornado/common?a=check_holiday&date=2018-4-25\n",
    "        用这个接口判断是否节假日，取data的值，如果为0为不休市，如果为1则为休市\n",
    "        不休市返回：{\"data\": 0, \"errmsg\": \"\", \"error\": 0}\n",
    "        休市返回：{\"data\": 1, \"errmsg\": \"\", \"error\": 0}\n",
    "        # 不休市 True;休市 False\n",
    "        return True if api.checkNonClosedDay(date) == 0 else False\"\"\"\n",
    "\n",
    "    def NextNonClosedDay(self, date):\n",
    "        \n",
    "        cNCD= True if self.checkNonClosedDay(date) == 0 else False\n",
    "        # date %Y-%M-%D: '2018-04-25'\n",
    "        if cNCD:#self.checkNonClosedDay(date):\n",
    "            return date\n",
    "        else:\n",
    "            date = datetime.datetime.strptime(date, \"%Y-%m-%d\") + datetime.timedelta(days=1)\n",
    "            return self.NextNonClosedDay(date.strftime('%Y-%m-%d'))\n",
    "\n",
    "    def get4thWedandnextNonClosedDay(self, n=datetime.datetime.now()):\n",
    "        year, month = n.year, n.month\n",
    "        import calendar\n",
    "        # 期权合约的到期日为到期月份的第四个星期三，该日为国家法定节假日、本所休市日的，顺延至下一个交易日\n",
    "        s = \\\n",
    "        pd.DataFrame(calendar.monthcalendar(year, month), columns=['Mon', 'Tue', 'Wed', 'Thu', 'Fri', 'Sat', 'Sun'])[\n",
    "            'Wed'].values\n",
    "        if s[0] == 0:\n",
    "            date = '%d-%s-%d' % (year, str(month) if str(month).startswith('1') else '0' + str(month), s[4])\n",
    "        else:\n",
    "            date = '%d-%s-%d' % (year, str(month) if str(month).startswith('1') else '0' + str(month), s[3])\n",
    "        return self.NextNonClosedDay(date)  # 期权合约的到期日为到期月份的第四个星期三，该日为国家法定节假日、本所休市日的，顺延至下一个交易日\n",
    "\n",
    "def Str2Datetime(testdatestr,formats='%Y-%m-%d'):\n",
    "    return datetime.datetime.strptime(testdatestr,formats)\n",
    "def YM2DatetimeStr(YM,century=21):\n",
    "    Y=str(int(YM))[:2]\n",
    "    M=str(int(YM))[2:]\n",
    "    return '%d'%(century-1)+Y+'-'+M+'-01'"
   ]
  },
  {
   "cell_type": "code",
   "execution_count": 7,
   "metadata": {},
   "outputs": [
    {
     "data": {
      "text/plain": [
       "0.03110753889407275"
      ]
     },
     "execution_count": 7,
     "metadata": {},
     "output_type": "execute_result"
    }
   ],
   "source": [
    "#s:Underlying Assets Price\n",
    "#k:Strike Price\n",
    "#r:risk free interest rate\n",
    "#T:avaiable time\n",
    "#sigma:square root of annual variance\n",
    "#cp: call or put fee\n",
    "#g: dividend yield\n",
    "# dividends:continuous\n",
    "op=OP.OptionPricing()\n",
    "s,k,r,T,sigma,cp,g=2.654,2.45,0.03,1.0/12,0.2934,0.22,0\n",
    "dividends='continuous'\n",
    "#回望型波动率\n",
    "op.BSPricing(s,k,r,T,sigma,cp,g,dividends=dividends)"
   ]
  },
  {
   "cell_type": "code",
   "execution_count": 6,
   "metadata": {},
   "outputs": [
    {
     "data": {
      "text/plain": [
       "u'var hq_str_sh510050=\"50ETF,2.639,2.646,2.654,2.666,2.617,2.653,2.654,499165604,1319272213.000,381951,2.653,624300,2.652,156200,2.651,1949700,2.650,513900,2.649,504700,2.654,1501000,2.655,559700,2.656,373700,2.657,183900,2.658,2018-05-03,15:00:00,00\";\\n'"
      ]
     },
     "execution_count": 6,
     "metadata": {},
     "output_type": "execute_result"
    }
   ],
   "source": [
    "# get real time info:k and s\n",
    "df=getrealtimeDataViaAPI()\n",
    "df50ETF=get50ETFrealtimeDataViaAPI()\n",
    "df50ETF"
   ]
  },
  {
   "cell_type": "code",
   "execution_count": 68,
   "metadata": {},
   "outputs": [
    {
     "data": {
      "text/plain": [
       "True"
      ]
     },
     "execution_count": 68,
     "metadata": {},
     "output_type": "execute_result"
    }
   ],
   "source": [
    "#get time span info\n",
    "testdf=df.head(1)\n",
    "YM=testdf['YM'].values[0]\n",
    "dd=ServiceAPIforBackUp().get4thWedandnextNonClosedDay(Str2Datetime(YM2DatetimeStr(YM),'%Y-%m-%d'))\n",
    "timespan=(Str2Datetime(dd)-datetime.datetime.today()).days\n",
    "timespan>0"
   ]
  },
  {
   "cell_type": "code",
   "execution_count": 17,
   "metadata": {},
   "outputs": [],
   "source": [
    "tef=df50ETF.split(';')[0].split('=')[1].strip('\"').split(',')"
   ]
  },
  {
   "cell_type": "code",
   "execution_count": 18,
   "metadata": {},
   "outputs": [
    {
     "data": {
      "text/plain": [
       "[u'50ETF',\n",
       " u'2.639',\n",
       " u'2.646',\n",
       " u'2.654',\n",
       " u'2.666',\n",
       " u'2.617',\n",
       " u'2.653',\n",
       " u'2.654',\n",
       " u'499165604',\n",
       " u'1319272213.000',\n",
       " u'381951',\n",
       " u'2.653',\n",
       " u'624300',\n",
       " u'2.652',\n",
       " u'156200',\n",
       " u'2.651',\n",
       " u'1949700',\n",
       " u'2.650',\n",
       " u'513900',\n",
       " u'2.649',\n",
       " u'504700',\n",
       " u'2.654',\n",
       " u'1501000',\n",
       " u'2.655',\n",
       " u'559700',\n",
       " u'2.656',\n",
       " u'373700',\n",
       " u'2.657',\n",
       " u'183900',\n",
       " u'2.658',\n",
       " u'2018-05-03',\n",
       " u'15:00:00',\n",
       " u'00']"
      ]
     },
     "execution_count": 18,
     "metadata": {},
     "output_type": "execute_result"
    }
   ],
   "source": [
    "tef"
   ]
  },
  {
   "cell_type": "code",
   "execution_count": 50,
   "metadata": {},
   "outputs": [
    {
     "data": {
      "text/plain": [
       "'2018-06-27'"
      ]
     },
     "execution_count": 50,
     "metadata": {},
     "output_type": "execute_result"
    }
   ],
   "source": []
  },
  {
   "cell_type": "code",
   "execution_count": 43,
   "metadata": {},
   "outputs": [],
   "source": []
  },
  {
   "cell_type": "code",
   "execution_count": null,
   "metadata": {},
   "outputs": [],
   "source": []
  }
 ],
 "metadata": {
  "kernelspec": {
   "display_name": "Python 2",
   "language": "python",
   "name": "python2"
  },
  "language_info": {
   "codemirror_mode": {
    "name": "ipython",
    "version": 2
   },
   "file_extension": ".py",
   "mimetype": "text/x-python",
   "name": "python",
   "nbconvert_exporter": "python",
   "pygments_lexer": "ipython2",
   "version": "2.7.14"
  }
 },
 "nbformat": 4,
 "nbformat_minor": 2
}
