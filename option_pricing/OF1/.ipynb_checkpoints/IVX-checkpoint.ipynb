{
 "cells": [
  {
   "cell_type": "code",
   "execution_count": 15,
   "metadata": {},
   "outputs": [],
   "source": [
    "# -*- coding:utf-8 -*-\n",
    "import pandas as pd\n",
    "import numpy as np\n",
    "import sys,datetime,calendar,requests"
   ]
  },
  {
   "cell_type": "code",
   "execution_count": 16,
   "metadata": {},
   "outputs": [
    {
     "name": "stdout",
     "output_type": "stream",
     "text": [
      "['', 'C:\\\\Windows\\\\SYSTEM32\\\\python27.zip', 'c:\\\\python27\\\\DLLs', 'c:\\\\python27\\\\lib', 'c:\\\\python27\\\\lib\\\\plat-win', 'c:\\\\python27\\\\lib\\\\lib-tk', 'c:\\\\python27', 'c:\\\\python27\\\\lib\\\\site-packages', 'C:\\\\Wind\\\\WAPI.PE\\\\x64', 'c:\\\\python27\\\\lib\\\\site-packages\\\\IPython\\\\extensions', 'C:\\\\Users\\\\Administrator\\\\.ipython', '../', '../']\n"
     ]
    }
   ],
   "source": [
    "# import Custom module\n",
    "\n",
    "sys.path.append('../')\n",
    "# import OF2,OF1,OF4\n",
    "import APICenter as API\n",
    "import DataCenter as DATA\n",
    "Api = API.API()\n",
    "\n",
    "Data = DATA.DataCenter()\n",
    "print sys.path"
   ]
  },
  {
   "cell_type": "code",
   "execution_count": 17,
   "metadata": {},
   "outputs": [],
   "source": [
    "def findnearone( CurrentUnderlyingPrice, dflist, outputtype='range', lengthofstrategy=1):\n",
    "        # dflist = tragetdf[['StrikePrice']]\n",
    "        if outputtype == 'range%':\n",
    "            s, l = CurrentUnderlyingPrice * (1 - 0.05 * lengthofstrategy), CurrentUnderlyingPrice * (\n",
    "                    1 + 0.05 * lengthofstrategy)\n",
    "            # print value\n",
    "            dflist['lsqStrikePrice'] = np.square(dflist.StrikePrice - l)\n",
    "            dflist['ssqStrikePrice'] = np.square(dflist.StrikePrice - s)\n",
    "            large = dflist.sort_values('lsqStrikePrice').StrikePrice.values[0]\n",
    "            small = dflist.sort_values('ssqStrikePrice').StrikePrice.values[0]\n",
    "            return small, large\n",
    "        elif outputtype == 'range':\n",
    "            s, l = CurrentUnderlyingPrice - 0.05 * \\\n",
    "                   lengthofstrategy, CurrentUnderlyingPrice + 0.05 * lengthofstrategy\n",
    "            # print value\n",
    "            dflist['lsqStrikePrice'] = np.square(dflist.StrikePrice - l)\n",
    "            dflist['ssqStrikePrice'] = np.square(dflist.StrikePrice - s)\n",
    "\n",
    "            large = dflist.sort_values('lsqStrikePrice').StrikePrice.values[0]\n",
    "            small = dflist.sort_values('ssqStrikePrice').StrikePrice.values[0]\n",
    "            return small, large\n",
    "        elif outputtype == 'match':\n",
    "            dflist['sqStrikePrice'] = np.square(\n",
    "                dflist.StrikePrice - CurrentUnderlyingPrice)\n",
    "\n",
    "            if lengthofstrategy != 1:\n",
    "                listsl = dflist.sort_values('sqStrikePrice').StrikePrice.values[\n",
    "                         :lengthofstrategy]\n",
    "                return listsl\n",
    "            else:\n",
    "                small = large = dflist.sort_values(\n",
    "                    'sqStrikePrice').StrikePrice.values[0]\n",
    "                return small, large\n",
    "        elif outputtype == 'nearest':\n",
    "            lStrikePrice=dflist[dflist.StrikePrice>=CurrentUnderlyingPrice].StrikePrice.values\n",
    "            sStrikePrice=dflist[dflist.StrikePrice<=CurrentUnderlyingPrice].StrikePrice.values\n",
    "            #print lStrikePrice,sStrikePrice\n",
    "            l=np.unique(lStrikePrice)\n",
    "            s=np.unique(sStrikePrice)\n",
    "            l.sort()\n",
    "            s.sort()\n",
    "            return s[-1*lengthofstrategy-1:],l[:lengthofstrategy+1]\n",
    "        else:\n",
    "            raise ValueError('Unknown params: %s'%outputtype)"
   ]
  },
  {
   "cell_type": "code",
   "execution_count": 18,
   "metadata": {},
   "outputs": [
    {
     "ename": "ImportError",
     "evalue": "No module named OPTION.OF1",
     "output_type": "error",
     "traceback": [
      "\u001b[1;31m---------------------------------------------------------------------------\u001b[0m",
      "\u001b[1;31mImportError\u001b[0m                               Traceback (most recent call last)",
      "\u001b[1;32m<ipython-input-18-db4b6039417c>\u001b[0m in \u001b[0;36m<module>\u001b[1;34m()\u001b[0m\n\u001b[1;32m----> 1\u001b[1;33m \u001b[0mrtOPdfam\u001b[0m\u001b[1;33m=\u001b[0m\u001b[0mData\u001b[0m\u001b[1;33m.\u001b[0m\u001b[0mLoadOptionRealTimeDataViaAPI\u001b[0m\u001b[1;33m(\u001b[0m\u001b[1;33m)\u001b[0m\u001b[1;33m\u001b[0m\u001b[0m\n\u001b[0m\u001b[0;32m      2\u001b[0m \u001b[0mrtOgreefam\u001b[0m\u001b[1;33m=\u001b[0m\u001b[0mData\u001b[0m\u001b[1;33m.\u001b[0m\u001b[0mLoadGreekRealTimeDataViaAPI\u001b[0m\u001b[1;33m(\u001b[0m\u001b[1;33m)\u001b[0m\u001b[1;33m\u001b[0m\u001b[0m\n\u001b[0;32m      3\u001b[0m \u001b[0mclose\u001b[0m\u001b[1;33m,\u001b[0m\u001b[0mcurrent\u001b[0m\u001b[1;33m=\u001b[0m\u001b[1;36m2.65\u001b[0m\u001b[1;33m,\u001b[0m\u001b[1;36m2.67\u001b[0m\u001b[1;33m\u001b[0m\u001b[0m\n\u001b[0;32m      4\u001b[0m \u001b[1;31m#Api.DataAPI.getUnderlyingLastCloseandCurrentUnderlyingPrice()[0]\u001b[0m\u001b[1;33m\u001b[0m\u001b[1;33m\u001b[0m\u001b[0m\n\u001b[0;32m      5\u001b[0m \u001b[0mrtOgreefam\u001b[0m\u001b[1;33m.\u001b[0m\u001b[0mRequestTimeStamp\u001b[0m\u001b[1;33m=\u001b[0m\u001b[0mnp\u001b[0m\u001b[1;33m.\u001b[0m\u001b[0mround\u001b[0m\u001b[1;33m(\u001b[0m\u001b[0mrtOgreefam\u001b[0m\u001b[1;33m.\u001b[0m\u001b[0mRequestTimeStamp\u001b[0m\u001b[1;33m)\u001b[0m\u001b[1;33m\u001b[0m\u001b[0m\n",
      "\u001b[1;32mC:\\Users\\Administrator\\Desktop\\worker\\option\\code\\GitHub\\Option\\OPTION\\DataCenter.pyc\u001b[0m in \u001b[0;36mLoadOptionRealTimeDataViaAPI\u001b[1;34m(self, Underlying, viaapi)\u001b[0m\n\u001b[0;32m     62\u001b[0m     \u001b[1;32mdef\u001b[0m \u001b[0mLoadOptionRealTimeDataViaAPI\u001b[0m\u001b[1;33m(\u001b[0m\u001b[0mself\u001b[0m\u001b[1;33m,\u001b[0m\u001b[0mUnderlying\u001b[0m\u001b[1;33m=\u001b[0m\u001b[1;36m510050\u001b[0m\u001b[1;33m,\u001b[0m\u001b[0mviaapi\u001b[0m\u001b[1;33m=\u001b[0m\u001b[0mFalse\u001b[0m\u001b[1;33m)\u001b[0m\u001b[1;33m:\u001b[0m\u001b[1;33m\u001b[0m\u001b[0m\n\u001b[0;32m     63\u001b[0m         \u001b[1;31m# need change part\u001b[0m\u001b[1;33m\u001b[0m\u001b[1;33m\u001b[0m\u001b[0m\n\u001b[1;32m---> 64\u001b[1;33m         \u001b[1;32mfrom\u001b[0m \u001b[0mOPTION\u001b[0m\u001b[1;33m.\u001b[0m\u001b[0mOF1\u001b[0m \u001b[1;32mimport\u001b[0m \u001b[0mOptionDataCollector\u001b[0m\u001b[1;33m\u001b[0m\u001b[0m\n\u001b[0m\u001b[0;32m     65\u001b[0m         \u001b[0mcc\u001b[0m \u001b[1;33m=\u001b[0m \u001b[0mOptionDataCollector\u001b[0m\u001b[1;33m.\u001b[0m\u001b[0mCollector\u001b[0m\u001b[1;33m(\u001b[0m\u001b[1;33m)\u001b[0m\u001b[1;33m\u001b[0m\u001b[0m\n\u001b[0;32m     66\u001b[0m         \u001b[0mss\u001b[0m \u001b[1;33m=\u001b[0m \u001b[0mcc\u001b[0m\u001b[1;33m.\u001b[0m\u001b[0mbeforeStart\u001b[0m\u001b[1;33m(\u001b[0m\u001b[1;33m)\u001b[0m\u001b[1;33m\u001b[0m\u001b[0m\n",
      "\u001b[1;31mImportError\u001b[0m: No module named OPTION.OF1"
     ]
    }
   ],
   "source": [
    "rtOPdfam=Data.LoadOptionRealTimeDataViaAPI()\n",
    "rtOgreefam=Data.LoadGreekRealTimeDataViaAPI()\n",
    "close,current=2.65,2.67\n",
    "#Api.DataAPI.getUnderlyingLastCloseandCurrentUnderlyingPrice()[0]\n",
    "rtOgreefam.RequestTimeStamp=np.round(rtOgreefam.RequestTimeStamp)\n",
    "rtOPdfam.RequestTimeStamp=np.round(rtOPdfam.RequestTimeStamp)\n",
    "CombinedOptiondf=pd.merge(rtOPdfam,rtOgreefam,on=['OptionContShortName','RequestTimeStamp','Unknown Var','LastestPrice','StrikePrice'])\n",
    "CombinedOptiondf=CombinedOptiondf[CombinedOptiondf['Unknown Var']=='M']\n",
    "#rtOPdf=rtOPdf[rtOPdf.YM==1806]"
   ]
  },
  {
   "cell_type": "code",
   "execution_count": 9,
   "metadata": {},
   "outputs": [],
   "source": [
    "class IVX():\n",
    "    def __init__(self,rtOPdf,current):\n",
    "        self.Table=self.calIVXTable(rtOPdf,current)\n",
    "        pass\n",
    "    @Lcache\n",
    "    def getIVXX(self,X=30):\n",
    "        \n",
    "        if X ==30:\n",
    "            #df=self.Table.sort_index().head(2)\n",
    "            return self.CalIVX30()\n",
    "        else:\n",
    "            raise ValueError('Unsupported IVX : %d'%X)\n",
    "        pass\n",
    "    def calIVXTable(self,rtOPdf,current):\n",
    "        temp={int(YM):self.CalIVX(df,current) for YM,df in rtOPdf.groupby('YM')}\n",
    "        return pd.DataFrame(temp).T\n",
    "        \n",
    "    def CalIVX(self,rtOPdf,current):\n",
    "        di={}\n",
    "        for OT,df in rtOPdf.groupby('OptionType'):\n",
    "            s,l=findnearone(current,df,outputtype='nearest',lengthofstrategy=3)\n",
    "            pricelist=np.append(s,l)\n",
    "            CallSC=df[df.StrikePrice.isin(pricelist)]\n",
    "            sliceddf=rtOPdf[rtOPdf.OptionContShortName.isin(CallSC.OptionContShortName.values)][['IV','Vega']]\n",
    "            sliceddf['VegaWeightedIV']=sliceddf['IV']*sliceddf['Vega']/sliceddf.Vega.sum()\n",
    "            di['IVX_'+OT]=sliceddf.VegaWeightedIV.sum()\n",
    "        di['IVX_Mean']=np.mean(di.values())\n",
    "        return di\n",
    "    def CalIVX30(self):\n",
    "        import functional\n",
    "        # IVX(CombinedOptiondf,current).Table\n",
    "        df=self.Table.sort_index().head(2)\n",
    "        df['Duration']=[Api.DateAPI.CalMaturity(i)*250 for i in df.index.values]\n",
    "        #df['Duration']=list(functional.seq(df.index.values).map(Api.DateAPI.CalMaturity).map(lambda x: x*250))\n",
    "        d=np.abs(np.diff(np.sqrt(df.Duration.values)))\n",
    "        #dd=list(functional.seq(df.Duration.values).map(lambda x: np.abs(np.sqrt(x)-np.sqrt(30))/d))\n",
    "        dd=[np.abs(np.sqrt(i)-np.sqrt(30))/d for i in df.Duration.values]\n",
    "        #dd=np.array(dd).ravel()\n",
    "        df['weighted']=dd[::-1]\n",
    "        dfdict={name+'_30':sum(df[name]*df.weighted) for name in ['IVX_Call','IVX_Put','IVX_Mean']}\n",
    "        return dfdict"
   ]
  },
  {
   "cell_type": "code",
   "execution_count": null,
   "metadata": {},
   "outputs": [],
   "source": [
    "from collections import OrderedDict\n",
    "class LastUpdatedOrderedDict(OrderedDict):\n",
    "\n",
    "    def __init__(self, capacity):\n",
    "        super(LastUpdatedOrderedDict, self).__init__()\n",
    "        self._capacity = capacity\n",
    "\n",
    "    def __setitem__(self, key, value):\n",
    "        containsKey = 1 if key in self else 0\n",
    "        if len(self) - containsKey >= self._capacity:\n",
    "            last = self.popitem(last=False)\n",
    "            #print 'remove:', last\n",
    "        if containsKey:\n",
    "            del self[key]\n",
    "            #print 'set:', (key, value)\n",
    "        else:\n",
    "            pass\n",
    "            #print 'add:', (key, value)\n",
    "        OrderedDict.__setitem__(self, key, value)\n",
    "\n",
    "def Lcache(capacity=250):\n",
    "    def cache(func,memo=LastUpdatedOrderedDict(capacity)):\n",
    "        \n",
    "        def _wrapper(*args):\n",
    "            res = memo.get(args, None)\n",
    "            if res is not None:\n",
    "                return res\n",
    "            else:\n",
    "                res = func(*args)\n",
    "                memo[args] = res\n",
    "            return res\n",
    "        return _wrapper\n",
    "    return cache"
   ]
  },
  {
   "cell_type": "code",
   "execution_count": null,
   "metadata": {},
   "outputs": [],
   "source": [
    "\n",
    "class test():\n",
    "    def __init__(self):\n",
    "        pass\n",
    "    @Lcache(1000)\n",
    "    def fib(self,n):\n",
    "        if n <= 1:\n",
    "            return n\n",
    "        else:\n",
    "            return self.fib(n - 1) + self.fib(n - 2)\n",
    "    "
   ]
  },
  {
   "cell_type": "code",
   "execution_count": null,
   "metadata": {},
   "outputs": [],
   "source": [
    "t=test()\n",
    "%prun [t.fib(_) for _ in xrange(100)]"
   ]
  },
  {
   "cell_type": "code",
   "execution_count": 50,
   "metadata": {},
   "outputs": [
    {
     "ename": "AttributeError",
     "evalue": "'Counter' object has no attribute 'Table'",
     "output_type": "error",
     "traceback": [
      "\u001b[1;31m---------------------------------------------------------------------------\u001b[0m",
      "\u001b[1;31mAttributeError\u001b[0m                            Traceback (most recent call last)",
      "\u001b[1;32m<ipython-input-50-cca09d52e2f4>\u001b[0m in \u001b[0;36m<module>\u001b[1;34m()\u001b[0m\n\u001b[0;32m      1\u001b[0m \u001b[1;31m# IVX(CombinedOptiondf,current).Table\u001b[0m\u001b[1;33m\u001b[0m\u001b[1;33m\u001b[0m\u001b[0m\n\u001b[1;32m----> 2\u001b[1;33m \u001b[0mdf\u001b[0m\u001b[1;33m=\u001b[0m\u001b[0mc\u001b[0m\u001b[1;33m.\u001b[0m\u001b[0mTable\u001b[0m\u001b[1;33m.\u001b[0m\u001b[0msort_index\u001b[0m\u001b[1;33m(\u001b[0m\u001b[1;33m)\u001b[0m\u001b[1;33m.\u001b[0m\u001b[0mhead\u001b[0m\u001b[1;33m(\u001b[0m\u001b[1;36m2\u001b[0m\u001b[1;33m)\u001b[0m\u001b[1;33m\u001b[0m\u001b[0m\n\u001b[0m\u001b[0;32m      3\u001b[0m \u001b[0mdf\u001b[0m\u001b[1;33m[\u001b[0m\u001b[1;34m'Duration'\u001b[0m\u001b[1;33m]\u001b[0m\u001b[1;33m=\u001b[0m\u001b[0mlist\u001b[0m\u001b[1;33m(\u001b[0m\u001b[0mfunctional\u001b[0m\u001b[1;33m.\u001b[0m\u001b[0mseq\u001b[0m\u001b[1;33m(\u001b[0m\u001b[0mdf\u001b[0m\u001b[1;33m.\u001b[0m\u001b[0mindex\u001b[0m\u001b[1;33m.\u001b[0m\u001b[0mvalues\u001b[0m\u001b[1;33m)\u001b[0m\u001b[1;33m.\u001b[0m\u001b[0mmap\u001b[0m\u001b[1;33m(\u001b[0m\u001b[0mApi\u001b[0m\u001b[1;33m.\u001b[0m\u001b[0mDateAPI\u001b[0m\u001b[1;33m.\u001b[0m\u001b[0mCalMaturity\u001b[0m\u001b[1;33m)\u001b[0m\u001b[1;33m.\u001b[0m\u001b[0mmap\u001b[0m\u001b[1;33m(\u001b[0m\u001b[1;32mlambda\u001b[0m \u001b[0mx\u001b[0m\u001b[1;33m:\u001b[0m \u001b[0mx\u001b[0m\u001b[1;33m*\u001b[0m\u001b[1;36m250\u001b[0m\u001b[1;33m)\u001b[0m\u001b[1;33m)\u001b[0m\u001b[1;33m\u001b[0m\u001b[0m\n\u001b[0;32m      4\u001b[0m \u001b[0md\u001b[0m\u001b[1;33m=\u001b[0m\u001b[0mnp\u001b[0m\u001b[1;33m.\u001b[0m\u001b[0mabs\u001b[0m\u001b[1;33m(\u001b[0m\u001b[0mnp\u001b[0m\u001b[1;33m.\u001b[0m\u001b[0mdiff\u001b[0m\u001b[1;33m(\u001b[0m\u001b[0mnp\u001b[0m\u001b[1;33m.\u001b[0m\u001b[0msqrt\u001b[0m\u001b[1;33m(\u001b[0m\u001b[0mdf\u001b[0m\u001b[1;33m.\u001b[0m\u001b[0mDuration\u001b[0m\u001b[1;33m.\u001b[0m\u001b[0mvalues\u001b[0m\u001b[1;33m)\u001b[0m\u001b[1;33m)\u001b[0m\u001b[1;33m)\u001b[0m\u001b[1;33m\u001b[0m\u001b[0m\n\u001b[0;32m      5\u001b[0m \u001b[0mdd\u001b[0m\u001b[1;33m=\u001b[0m\u001b[0mlist\u001b[0m\u001b[1;33m(\u001b[0m\u001b[0mfunctional\u001b[0m\u001b[1;33m.\u001b[0m\u001b[0mseq\u001b[0m\u001b[1;33m(\u001b[0m\u001b[0mdf\u001b[0m\u001b[1;33m.\u001b[0m\u001b[0mDuration\u001b[0m\u001b[1;33m.\u001b[0m\u001b[0mvalues\u001b[0m\u001b[1;33m)\u001b[0m\u001b[1;33m.\u001b[0m\u001b[0mmap\u001b[0m\u001b[1;33m(\u001b[0m\u001b[1;32mlambda\u001b[0m \u001b[0mx\u001b[0m\u001b[1;33m:\u001b[0m \u001b[0mnp\u001b[0m\u001b[1;33m.\u001b[0m\u001b[0mabs\u001b[0m\u001b[1;33m(\u001b[0m\u001b[0mnp\u001b[0m\u001b[1;33m.\u001b[0m\u001b[0msqrt\u001b[0m\u001b[1;33m(\u001b[0m\u001b[0mx\u001b[0m\u001b[1;33m)\u001b[0m\u001b[1;33m-\u001b[0m\u001b[0mnp\u001b[0m\u001b[1;33m.\u001b[0m\u001b[0msqrt\u001b[0m\u001b[1;33m(\u001b[0m\u001b[1;36m30\u001b[0m\u001b[1;33m)\u001b[0m\u001b[1;33m)\u001b[0m\u001b[1;33m/\u001b[0m\u001b[0md\u001b[0m\u001b[1;33m)\u001b[0m\u001b[1;33m)\u001b[0m\u001b[1;33m\u001b[0m\u001b[0m\n",
      "\u001b[1;31mAttributeError\u001b[0m: 'Counter' object has no attribute 'Table'"
     ]
    }
   ],
   "source": [
    "# IVX(CombinedOptiondf,current).Table\n",
    "df=c.Table.sort_index().head(2)\n",
    "df['Duration']=list(functional.seq(df.index.values).map(Api.DateAPI.CalMaturity).map(lambda x: x*250))\n",
    "d=np.abs(np.diff(np.sqrt(df.Duration.values)))\n",
    "dd=list(functional.seq(df.Duration.values).map(lambda x: np.abs(np.sqrt(x)-np.sqrt(30))/d))\n",
    "dd=np.array(dd).ravel()\n",
    "df['weighted']=dd[::-1]\n",
    "dfdict={name+'_30':sum(df[name]*df.weighted) for name in ['IVX_Call','IVX_Put','IVX_Mean']}\n"
   ]
  },
  {
   "cell_type": "code",
   "execution_count": 2,
   "metadata": {},
   "outputs": [],
   "source": [
    "import shelve"
   ]
  },
  {
   "cell_type": "code",
   "execution_count": 3,
   "metadata": {},
   "outputs": [],
   "source": [
    "import shelve"
   ]
  },
  {
   "cell_type": "code",
   "execution_count": 227,
   "metadata": {},
   "outputs": [
    {
     "data": {
      "text/plain": [
       "{'IVX_Call30': 0.23595249946683766,\n",
       " 'IVX_Mean30': 0.2388213255416426,\n",
       " 'IVX_Put30': 0.24169015161644752}"
      ]
     },
     "execution_count": 227,
     "metadata": {},
     "output_type": "execute_result"
    }
   ],
   "source": [
    "dfdict"
   ]
  },
  {
   "cell_type": "code",
   "execution_count": null,
   "metadata": {},
   "outputs": [],
   "source": []
  },
  {
   "cell_type": "code",
   "execution_count": 6,
   "metadata": {},
   "outputs": [
    {
     "data": {
      "text/plain": [
       "Counter({'1': 5, '2': 5, '3': 4})"
      ]
     },
     "execution_count": 6,
     "metadata": {},
     "output_type": "execute_result"
    }
   ],
   "source": []
  },
  {
   "cell_type": "code",
   "execution_count": null,
   "metadata": {},
   "outputs": [],
   "source": []
  }
 ],
 "metadata": {
  "kernelspec": {
   "display_name": "Python 2",
   "language": "python",
   "name": "python2"
  },
  "language_info": {
   "codemirror_mode": {
    "name": "ipython",
    "version": 2
   },
   "file_extension": ".py",
   "mimetype": "text/x-python",
   "name": "python",
   "nbconvert_exporter": "python",
   "pygments_lexer": "ipython2",
   "version": "2.7.14"
  }
 },
 "nbformat": 4,
 "nbformat_minor": 2
}
