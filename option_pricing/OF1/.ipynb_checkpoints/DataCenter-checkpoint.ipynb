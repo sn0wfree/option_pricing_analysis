{
 "cells": [
  {
   "cell_type": "code",
   "execution_count": 2,
   "metadata": {},
   "outputs": [],
   "source": [
    "# -*- coding:utf-8 -*-\n",
    "import datetime\n",
    "import numpy as np\n",
    "import math,time\n",
    "import pandas as pd\n",
    "import scipy.stats as sps\n",
    "import requests,sqlite3\n",
    "%matplotlib inline"
   ]
  },
  {
   "cell_type": "code",
   "execution_count": 5,
   "metadata": {},
   "outputs": [],
   "source": [
    "class DataCenter():\n",
    "    def __init__(self,db=False):\n",
    "        self.session=requests.session()\n",
    "        self.dbconn=SqliteConnection(db) if db else None\n",
    "        pass\n",
    "    def autoupdate(self):\n",
    "        pass\n",
    "    def __apiCommand(self,command):\n",
    "        response=self.session.get(command)\n",
    "        if response.status_code==200:\n",
    "            return response.text\n",
    "        else:\n",
    "            raise ValueError('Requests Error Code:%d'%response.status_code)\n",
    "        \n",
    "    def get(self,via='API',**varname):\n",
    "        if  via=='sql':\n",
    "            if self.dbconn is None:\n",
    "                raise ValueError('No db given')\n",
    "            elif 'Table' in varname.keys():\n",
    "                tablename=varname.pop('Table')\n",
    "                var=','.join(varname)\n",
    "                return pd.read_sql('select %s in %s'%(var,tablename),self.dbconn)\n",
    "            else:\n",
    "                raise ValueError('Unknown sql info %s'%','.join(varname.values))\n",
    "            pass\n",
    "        elif via=='API':\n",
    "            \"\"\"\n",
    "            构造api请求信息url\n",
    "            \"\"\"\n",
    "            command='url'+','.join(varname.values())\n",
    "            return self.__apiCommand(command)\n",
    "    \n",
    "\n",
    "def SqliteConnection(self,target):\n",
    "        import sqlite3\n",
    "        if target != 'default':\n",
    "            conn = sqlite3.connect(target,timeout=10)\n",
    "        else:\n",
    "            conn = sqlite3.connect(\":memory:\")\n",
    "        return conn         "
   ]
  },
  {
   "cell_type": "code",
   "execution_count": null,
   "metadata": {},
   "outputs": [],
   "source": []
  }
 ],
 "metadata": {
  "kernelspec": {
   "display_name": "Python 2",
   "language": "python",
   "name": "python2"
  },
  "language_info": {
   "codemirror_mode": {
    "name": "ipython",
    "version": 2
   },
   "file_extension": ".py",
   "mimetype": "text/x-python",
   "name": "python",
   "nbconvert_exporter": "python",
   "pygments_lexer": "ipython2",
   "version": "2.7.14"
  }
 },
 "nbformat": 4,
 "nbformat_minor": 2
}
